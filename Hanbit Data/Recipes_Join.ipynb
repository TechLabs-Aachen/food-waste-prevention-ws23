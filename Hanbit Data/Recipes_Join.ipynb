{
 "cells": [
  {
   "cell_type": "code",
   "execution_count": 1,
   "metadata": {},
   "outputs": [],
   "source": [
    "import numpy as np # linear algebra\n",
    "import pandas as pd # data processing, CSV file I/O (e.g. pd.read_csv)\n",
    "import seaborn as sns\n",
    "import sys\n",
    "import matplotlib.pyplot as plt\n",
    "import seaborn as sns\n",
    "import gensim\n",
    "import gensim.downloader\n",
    "from gensim.utils import simple_preprocess"
   ]
  },
  {
   "cell_type": "code",
   "execution_count": 2,
   "metadata": {},
   "outputs": [
    {
     "name": "stdout",
     "output_type": "stream",
     "text": [
      "proximates beef eye of round roaststeak lean only raw animal  select\n"
     ]
    }
   ],
   "source": [
    "with open (\"nutrition_description.txt\", \"r\") as nutrition:\n",
    "  nutrition_data = nutrition.read().splitlines()\n",
    "\n",
    "with open (\"recipe_ingredients\", \"r\") as ingredients:\n",
    "  ingredients_data = ingredients.read().splitlines()\n",
    "  \n",
    "\n",
    "print(nutrition_data[10])\n",
    "\n",
    "glove_vectors = gensim.downloader.load('glove-wiki-gigaword-300')"
   ]
  },
  {
   "cell_type": "code",
   "execution_count": 12,
   "metadata": {},
   "outputs": [
    {
     "name": "stdout",
     "output_type": "stream",
     "text": [
      "5824\n"
     ]
    }
   ],
   "source": [
    "import scipy\n",
    "\n",
    "nutrition_data = list(set(nutrition_data))\n",
    "print(len(nutrition_data))\n",
    "sp_nutrition = []\n",
    "for i in nutrition_data:\n",
    "  sp = simple_preprocess(i)\n",
    "  ntarray = []\n",
    "  \n",
    "  try:\n",
    "    for s in sp:\n",
    "      ntarray.append(glove_vectors[s])\n",
    "  except Exception:\n",
    "    pass   \n",
    "  sp_nutrition.append(np.sum(np.array(ntarray), axis=0))"
   ]
  },
  {
   "cell_type": "code",
   "execution_count": 13,
   "metadata": {},
   "outputs": [
    {
     "name": "stdout",
     "output_type": "stream",
     "text": [
      "25338\n"
     ]
    }
   ],
   "source": [
    "ingredients_data = list(set(ingredients_data))\n",
    "print(len(ingredients_data))\n",
    "sp_ingredients = []\n",
    "for i in ingredients_data:\n",
    "  sp = simple_preprocess(i)\n",
    "  ntarray = []\n",
    "  \n",
    "  try:\n",
    "    for s in sp:\n",
    "      ntarray.append(glove_vectors[s])\n",
    "  except Exception:\n",
    "    pass   \n",
    "  sp_ingredients.append(np.sum(np.array(ntarray), axis=0))\n"
   ]
  },
  {
   "cell_type": "code",
   "execution_count": 21,
   "metadata": {},
   "outputs": [
    {
     "name": "stderr",
     "output_type": "stream",
     "text": [
      "  0%|          | 118/25338 [00:18<1:06:20,  6.34it/s]\n"
     ]
    },
    {
     "ename": "KeyboardInterrupt",
     "evalue": "",
     "output_type": "error",
     "traceback": [
      "\u001b[0;31m---------------------------------------------------------------------------\u001b[0m",
      "\u001b[0;31mKeyboardInterrupt\u001b[0m                         Traceback (most recent call last)",
      "Cell \u001b[0;32mIn[21], line 9\u001b[0m\n\u001b[1;32m      7\u001b[0m \u001b[38;5;28;01mfor\u001b[39;00m j \u001b[38;5;129;01min\u001b[39;00m sp_nutrition:\n\u001b[1;32m      8\u001b[0m   \u001b[38;5;28;01mtry\u001b[39;00m:\n\u001b[0;32m----> 9\u001b[0m     sp_array[\u001b[38;5;241m-\u001b[39m\u001b[38;5;241m1\u001b[39m]\u001b[38;5;241m.\u001b[39mappend(\u001b[38;5;241m1\u001b[39m \u001b[38;5;241m-\u001b[39m scipy\u001b[38;5;241m.\u001b[39mspatial\u001b[38;5;241m.\u001b[39mdistance\u001b[38;5;241m.\u001b[39mcosine(i, j))\n\u001b[1;32m     10\u001b[0m   \u001b[38;5;28;01mexcept\u001b[39;00m \u001b[38;5;167;01mException\u001b[39;00m:\n\u001b[1;32m     11\u001b[0m     sp_array[\u001b[38;5;241m-\u001b[39m\u001b[38;5;241m1\u001b[39m]\u001b[38;5;241m.\u001b[39mappend(\u001b[38;5;241m0\u001b[39m)\n",
      "File \u001b[0;32m~/anaconda3/lib/python3.11/site-packages/scipy/spatial/distance.py:684\u001b[0m, in \u001b[0;36mcosine\u001b[0;34m(u, v, w)\u001b[0m\n\u001b[1;32m    642\u001b[0m \u001b[38;5;250m\u001b[39m\u001b[38;5;124;03m\"\"\"\u001b[39;00m\n\u001b[1;32m    643\u001b[0m \u001b[38;5;124;03mCompute the Cosine distance between 1-D arrays.\u001b[39;00m\n\u001b[1;32m    644\u001b[0m \n\u001b[0;32m   (...)\u001b[0m\n\u001b[1;32m    679\u001b[0m \n\u001b[1;32m    680\u001b[0m \u001b[38;5;124;03m\"\"\"\u001b[39;00m\n\u001b[1;32m    681\u001b[0m \u001b[38;5;66;03m# cosine distance is also referred to as 'uncentered correlation',\u001b[39;00m\n\u001b[1;32m    682\u001b[0m \u001b[38;5;66;03m#   or 'reflective correlation'\u001b[39;00m\n\u001b[1;32m    683\u001b[0m \u001b[38;5;66;03m# clamp the result to 0-2\u001b[39;00m\n\u001b[0;32m--> 684\u001b[0m \u001b[38;5;28;01mreturn\u001b[39;00m \u001b[38;5;28mmax\u001b[39m(\u001b[38;5;241m0\u001b[39m, \u001b[38;5;28mmin\u001b[39m(correlation(u, v, w\u001b[38;5;241m=\u001b[39mw, centered\u001b[38;5;241m=\u001b[39m\u001b[38;5;28;01mFalse\u001b[39;00m), \u001b[38;5;241m2.0\u001b[39m))\n",
      "\u001b[0;31mKeyboardInterrupt\u001b[0m: "
     ]
    }
   ],
   "source": [
    "import tqdm\n",
    "#lazy problem\n",
    "sp_array = []\n",
    "\n",
    "for i in tqdm.tqdm(sp_ingredients):\n",
    "  sp_array.append([])\n",
    "  for j in sp_nutrition:\n",
    "    try:\n",
    "      sp_array[-1].append(1 - scipy.spatial.distance.cosine(i, j))\n",
    "    except Exception:\n",
    "      sp_array[-1].append(0)\n",
    "  "
   ]
  }
 ],
 "metadata": {
  "kernelspec": {
   "display_name": "base",
   "language": "python",
   "name": "python3"
  },
  "language_info": {
   "codemirror_mode": {
    "name": "ipython",
    "version": 3
   },
   "file_extension": ".py",
   "mimetype": "text/x-python",
   "name": "python",
   "nbconvert_exporter": "python",
   "pygments_lexer": "ipython3",
   "version": "3.11.5"
  }
 },
 "nbformat": 4,
 "nbformat_minor": 2
}
