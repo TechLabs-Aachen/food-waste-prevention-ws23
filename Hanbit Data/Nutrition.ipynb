{
 "cells": [
  {
   "cell_type": "code",
   "execution_count": 27,
   "metadata": {},
   "outputs": [],
   "source": [
    "import pandas as pd"
   ]
  },
  {
   "cell_type": "code",
   "execution_count": 46,
   "metadata": {},
   "outputs": [
    {
     "name": "stderr",
     "output_type": "stream",
     "text": [
      "/var/folders/qy/381x0r4j1_bgk1nfvpfvyj9h0000gn/T/ipykernel_7554/3931846290.py:3: DtypeWarning: Columns (9,10) have mixed types. Specify dtype option on import or set low_memory=False.\n",
      "  Food_Nutrients = pd.read_csv(\"Data/food_nutrient.csv\")\n"
     ]
    }
   ],
   "source": [
    "Food = pd.read_csv(\"Data/food.csv\")\n",
    "Nutrients = pd.read_csv(\"Data/nutrient.csv\")\n",
    "Food_Nutrients = pd.read_csv(\"Data/food_nutrient.csv\")"
   ]
  },
  {
   "cell_type": "markdown",
   "metadata": {},
   "source": []
  },
  {
   "cell_type": "code",
   "execution_count": 74,
   "metadata": {},
   "outputs": [
    {
     "data": {
      "text/plain": [
       "(62659, 13)"
      ]
     },
     "execution_count": 74,
     "metadata": {},
     "output_type": "execute_result"
    }
   ],
   "source": [
    "Merge_DF = Food_cleaned.merge(Food_Nutrients, left_on=\"fdc_id\", right_on=\"fdc_id\")\n",
    "Merge_DF = Merge_DF.merge(Nutrients, left_on=\"nutrient_id\", right_on=\"id\")\n",
    "Merge_DF.shape\n",
    "Merge_DF[\"description\"] = Merge_DF[\"description\"].astype(str)\n",
    "\n",
    "Merge_DF[Merge_DF[\"description\"].str.contains(\"Pineapple\")]\n",
    "#Merge_DF[Merge_DF[\"description\"] != \"HUMMUS\"]\n",
    "\n",
    "Merge_DF = Merge_DF.drop([\"fdc_id\", \"data_type\", \"publication_date\", \"id_x\", \"footnote\", \"min_year_acquired\", \"rank\"], axis = 1)\n",
    "Merge_DF.shape"
   ]
  },
  {
   "cell_type": "code",
   "execution_count": 79,
   "metadata": {},
   "outputs": [],
   "source": [
    "def normalized_nutr(name):\n",
    "    name = \"\".join([a.lower() for a in name if a.isalpha() or a == \" \"])\n",
    "    return name\n",
    "\n",
    "Merge_DF_cleaned = Merge_DF\n",
    "Merge_DF_cleaned[\"description\"] = Merge_DF_cleaned[\"description\"].apply(normalized_nutr)\n"
   ]
  },
  {
   "cell_type": "code",
   "execution_count": 80,
   "metadata": {},
   "outputs": [
    {
     "data": {
      "text/plain": [
       "array(['hummus', 'milk  ',\n",
       "       'proximates beef eye of round roaststeak lean only raw animal  select',\n",
       "       ..., 'corn oil', 'vegetable oil  soybean oil', 'nan'], dtype=object)"
      ]
     },
     "execution_count": 80,
     "metadata": {},
     "output_type": "execute_result"
    }
   ],
   "source": [
    "Merge_DF_cleaned[\"description\"].unique()"
   ]
  },
  {
   "cell_type": "code",
   "execution_count": 77,
   "metadata": {},
   "outputs": [
    {
     "data": {
      "text/plain": [
       "array(['Hummus', 'MILK, 2% ',\n",
       "       'Proximates, Beef, Eye of Round roast/steak, lean only, raw, animal 5, select',\n",
       "       ..., 'Vegetable Oil (100% Soybean Oil)', 'Olive Oil, Extra Virgin',\n",
       "       'nan'], dtype=object)"
      ]
     },
     "execution_count": 77,
     "metadata": {},
     "output_type": "execute_result"
    }
   ],
   "source": [
    "Merge_DF[\"description\"].unique()"
   ]
  },
  {
   "cell_type": "code",
   "execution_count": 81,
   "metadata": {},
   "outputs": [],
   "source": [
    "Merge_DF_cleaned.to_csv(\"Nutrition.csv\")"
   ]
  },
  {
   "cell_type": "code",
   "execution_count": null,
   "metadata": {},
   "outputs": [],
   "source": []
  }
 ],
 "metadata": {
  "kernelspec": {
   "display_name": "base",
   "language": "python",
   "name": "python3"
  },
  "language_info": {
   "codemirror_mode": {
    "name": "ipython",
    "version": 3
   },
   "file_extension": ".py",
   "mimetype": "text/x-python",
   "name": "python",
   "nbconvert_exporter": "python",
   "pygments_lexer": "ipython3",
   "version": "3.11.5"
  }
 },
 "nbformat": 4,
 "nbformat_minor": 2
}
