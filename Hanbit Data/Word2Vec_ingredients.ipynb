{
 "cells": [
  {
   "cell_type": "code",
   "execution_count": 64,
   "metadata": {},
   "outputs": [],
   "source": [
    "import numpy as np # linear algebra\n",
    "import pandas as pd # data processing, CSV file I/O (e.g. pd.read_csv)\n",
    "import seaborn as sns\n",
    "import sys\n",
    "import matplotlib.pyplot as plt\n",
    "import seaborn as sns\n",
    "import gensim\n",
    "import gensim.downloader\n",
    "from gensim.utils import simple_preprocess\n"
   ]
  },
  {
   "cell_type": "code",
   "execution_count": 65,
   "metadata": {},
   "outputs": [
    {
     "name": "stdout",
     "output_type": "stream",
     "text": [
      "proximates beef eye of round roaststeak lean only raw animal  select\n",
      "[==================================================] 100.0% 376.1/376.1MB downloaded\n"
     ]
    }
   ],
   "source": [
    "with open (\"nutrition_description.txt\", \"r\") as nutrition:\n",
    "  nutrition_data = nutrition.read().splitlines()\n",
    "\n",
    "with open (\"recipe_ingredients\", \"r\") as ingredients:\n",
    "  ingredients_data = ingredients.read().splitlines()\n",
    "  \n",
    "\n",
    "print(nutrition_data[10])\n",
    "\n",
    "glove_vectors = gensim.downloader.load('glove-wiki-gigaword-300')\n",
    "\n"
   ]
  },
  {
   "cell_type": "code",
   "execution_count": 66,
   "metadata": {},
   "outputs": [
    {
     "name": "stdout",
     "output_type": "stream",
     "text": [
      "['hummus']\n",
      "['dried', 'apple', 'rings']\n",
      "[-3.19570005e-01  1.15813002e-01  1.72661006e-01 -1.58162999e+00\n",
      " -1.28749996e-01 -8.79410207e-01  3.69719982e-01  4.21326995e-01\n",
      "  6.14390016e-01 -2.38259983e+00  2.05650985e-01  3.73090029e-01\n",
      " -3.80571991e-01 -5.88099658e-02 -8.52409959e-01 -7.41659999e-01\n",
      " -1.07471991e+00 -9.71309990e-02 -7.39382982e-01  2.39069015e-01\n",
      " -4.81590033e-01 -2.93996930e-03 -5.52499667e-03 -7.92649984e-01\n",
      " -7.68270016e-01 -4.72779989e-01 -3.43840003e-01 -1.00702000e+00\n",
      " -4.36529011e-01 -4.07939017e-01 -8.71840000e-01  1.38870001e-01\n",
      " -1.02396297e+00 -4.60884005e-01 -1.97940993e+00  5.23550034e-01\n",
      " -2.34755993e-01  4.67489958e-02 -3.91620100e-02 -6.49929047e-04\n",
      "  1.79499835e-02  6.66310042e-02 -4.38700020e-02  1.30427802e+00\n",
      "  4.23532009e-01 -2.67678201e-01 -7.89040029e-02  5.24993956e-01\n",
      " -3.32839996e-01 -5.73099852e-02  6.35255992e-01 -6.79200053e-01\n",
      "  1.09169006e+00  9.54209983e-01 -1.49979994e-01 -5.11017978e-01\n",
      " -4.56420034e-01  3.07862967e-01  1.75840005e-01 -1.81021988e-01\n",
      "  5.52719951e-01 -1.07063305e+00  8.58000219e-02  1.12638998e+00\n",
      "  1.86150998e-01  4.62449998e-01 -1.73486996e+00  9.96550024e-01\n",
      "  4.43410009e-01 -3.43277991e-01  4.00720000e-01  2.17499882e-02\n",
      "  2.92089999e-01  8.68539989e-01 -3.23325008e-01 -2.27892995e-01\n",
      "  2.60682011e+00 -1.67512989e+00  4.91349161e-01 -1.43231988e-01\n",
      " -5.34499884e-02  2.28260994e-01 -5.26499748e-02 -6.40774012e-01\n",
      "  7.40157008e-01 -2.86949009e-01 -1.18852794e+00 -1.25050008e-01\n",
      " -6.18214011e-01 -6.83791995e-01 -3.99209976e-01  1.44300163e-02\n",
      " -2.59999990e-01 -1.69510007e-01 -2.22328007e-01  1.03843498e+00\n",
      " -7.17900038e-01 -3.65089983e-01  2.78580010e-01 -1.06974995e+00\n",
      "  2.52629995e-01  8.76680017e-01  1.90517992e-01 -1.75231993e+00\n",
      " -9.27349031e-01 -6.73189998e-01 -2.25120008e-01  6.93644047e-01\n",
      " -1.45722997e+00 -7.20130056e-02 -2.09490061e-02  2.77632207e-01\n",
      "  8.03626955e-01 -1.49495006e+00 -8.93190026e-01 -2.43886024e-01\n",
      " -1.10922003e+00  1.49213994e+00  4.80800867e-03 -1.51703000e+00\n",
      " -2.11689025e-01 -2.50338984e+00  3.86210024e-01  2.94390488e-02\n",
      " -1.01108098e+00  5.12971997e-01 -2.98398018e-01  2.02363992e+00\n",
      " -1.53901005e+00  1.38118291e+00 -9.64169979e-01  2.17502999e+00\n",
      "  7.28472948e-01  6.42639995e-01 -9.85389948e-02 -2.63402015e-01\n",
      "  4.72024202e-01  3.00475001e-01 -7.65046060e-01 -1.92374006e-01\n",
      "  1.63036203e+00  1.03278005e+00 -7.04778016e-01 -1.03135002e+00\n",
      "  6.12361193e-01  1.03402007e+00  2.32509971e-02 -7.37200081e-02\n",
      "  2.01719999e+00 -1.00488997e+00 -1.12126005e+00  5.17520010e-01\n",
      " -8.28799009e-01 -3.87825012e-01 -7.12469995e-01 -7.28111029e-01\n",
      " -3.52229998e-02 -7.34200001e-01 -1.19748998e+00  5.38949966e-01\n",
      " -7.46335983e-01  3.85288000e-01  3.37850034e-01  4.96103495e-01\n",
      "  6.78580046e-01  4.02679741e-02  2.32283294e-01  4.46530044e-01\n",
      " -7.22010016e-01 -7.34395027e-01 -8.63219976e-01  5.25670052e-01\n",
      " -1.08393097e+00  1.12134898e+00  5.38040042e-01 -7.90599883e-02\n",
      "  1.03119504e+00 -1.08120024e-01  1.52190000e-01 -1.44945908e+00\n",
      " -3.24288011e-01  8.63950014e-01  5.68078041e-01 -1.06389999e+00\n",
      "  7.08429992e-01 -1.31409001e+00  1.35739005e+00 -3.46600413e-02\n",
      "  5.49140036e-01 -1.37050998e+00  6.76647067e-01  1.62124991e+00\n",
      " -8.42920065e-01  1.48470044e-01 -1.69738978e-01 -7.32607901e-01\n",
      " -4.01547998e-01 -3.14198971e-01 -9.61706996e-01  5.43413997e-01\n",
      "  1.38655996e+00 -7.25409985e-01  6.31950021e-01  8.10500026e-01\n",
      " -9.53600407e-02  5.02480388e-01  4.22141016e-01  6.93470001e-01\n",
      "  2.29099989e-01 -9.51490030e-02  6.47458971e-01 -1.75719976e-01\n",
      "  1.42349988e-01 -4.82098997e-01 -6.14329994e-01 -2.67836004e-01\n",
      "  5.65094054e-01 -3.65680009e-02  3.26499343e-03  6.24109030e-01\n",
      "  9.94859993e-01  4.19633985e-01 -1.09923005e+00 -1.31669998e-01\n",
      " -7.69672990e-01  3.00239980e-01 -4.15996999e-01 -6.43000007e-03\n",
      "  8.27529952e-02  3.37985992e-01  7.79799819e-02 -1.46853983e-01\n",
      " -4.87719953e-01 -7.60660052e-01  4.29309964e-01  6.30499959e-01\n",
      "  7.42918015e-01 -3.37679982e-01 -1.10912895e+00 -1.29777998e-01\n",
      " -8.88970017e-01 -4.70225990e-01 -3.49920034e-01 -2.97610044e-01\n",
      " -2.17979193e+00 -9.19360042e-01  3.38364989e-01  4.62599993e-01\n",
      "  1.82040006e-01 -1.67280006e+00  8.38869989e-01  1.19455194e+00\n",
      " -8.23090076e-01 -4.38710004e-01  4.50878978e-01 -1.96357012e-01\n",
      " -1.57961994e-01  9.85261023e-01 -1.27670005e-01  5.56589961e-01\n",
      " -3.27016085e-01 -1.13064694e+00  4.92127985e-01 -2.29512990e-01\n",
      "  4.93699640e-01 -7.32270002e-01 -4.18187976e-01 -3.58120024e-01\n",
      "  5.68700135e-02  5.22881866e-01 -8.09429884e-01  1.57828999e+00\n",
      " -2.27750003e-01 -2.42475018e-01 -6.81375027e-01  7.15629995e-01\n",
      " -3.25152016e+00 -1.10936296e+00 -1.54122996e+00 -1.14643002e+00\n",
      " -3.45019996e-01  4.80070025e-01 -3.29946011e-01 -4.38642092e-02\n",
      " -8.49403024e-01  3.76420021e-01  9.40140009e-01  1.69624403e-01\n",
      "  3.07243019e-01  1.06298007e-01 -3.88909996e-01  6.68499768e-02\n",
      " -2.86239982e-01  6.16572022e-01 -2.20623016e-01 -6.98549032e-01\n",
      " -2.59979963e-01 -1.95522964e-01  1.65847003e-01  1.28567994e-01]\n"
     ]
    }
   ],
   "source": [
    "print(simple_preprocess(nutrition_data[0]))\n",
    "sp = simple_preprocess(ingredients_data[0])\n",
    "print(sp)\n",
    "\n",
    "embedding_sp = np.sum(np.array([glove_vectors[s] for s in sp]), axis=0)\n",
    "\n",
    "print(embedding_sp)"
   ]
  },
  {
   "cell_type": "code",
   "execution_count": 67,
   "metadata": {},
   "outputs": [
    {
     "name": "stdout",
     "output_type": "stream",
     "text": [
      "['egg', 'whites', 'dried']\n",
      "['figs', 'dried', 'pass', 'region', 'na', 'no', 'proximates', 'nfycdb']\n",
      "['apple', 'juice', 'with', 'added', 'vitamin', 'from', 'concentrate', 'shelf', 'stable']\n",
      "['apples', 'red', 'delicious', 'with', 'skin', 'raw']\n",
      "['apples', 'fuji', 'with', 'skin', 'raw']\n",
      "['protein', 'ash', 'moisture', 'ground', 'turkey', 'lean', 'fat', 'raw', 'flmony']\n",
      "['pears', 'bartlett', 'region', 'na', 'yes', 'proximates', 'nfyy']\n",
      "['orange', 'juice', 'no', 'pulp', 'not', 'fortified', 'not', 'from', 'concentrate', 'refrigerated']\n",
      "['peaches', 'region', 'freeze', 'dried', 'carotenoids', 'nfym']\n",
      "0.5558897256851196\n",
      "0.503074049949646\n",
      "0.57264244556427\n",
      "0.6491557955741882\n",
      "0.6002766489982605\n",
      "0.3982447385787964\n",
      "0.26782697439193726\n",
      "0.5106993913650513\n",
      "0.5600193738937378\n"
     ]
    }
   ],
   "source": [
    "import scipy\n",
    "list_test = [80, 276, 1769, 1751, 1755, 2344, 3455, 4566, 27429] \n",
    "sp_nutrition = []\n",
    "\n",
    "for i in list_test:\n",
    "  sp = simple_preprocess(nutrition_data[i])\n",
    "  print(sp)\n",
    "  ntarray = []\n",
    "  try:\n",
    "    for s in sp:\n",
    "      ntarray.append(glove_vectors[s])\n",
    "  except Exception:\n",
    "    pass   \n",
    "  sp_nutrition.append(np.sum(np.array(ntarray), axis=0))\n",
    "for i in sp_nutrition:\n",
    "  print(1 - scipy.spatial.distance.cosine(i, embedding_sp))"
   ]
  },
  {
   "cell_type": "code",
   "execution_count": 68,
   "metadata": {},
   "outputs": [],
   "source": [
    "model = gensim.models.Word2Vec(\n",
    "  window=15,\n",
    "  min_count=2,\n",
    "  workers=4\n",
    ")"
   ]
  },
  {
   "cell_type": "code",
   "execution_count": 69,
   "metadata": {},
   "outputs": [
    {
     "ename": "NameError",
     "evalue": "name 'text' is not defined",
     "output_type": "error",
     "traceback": [
      "\u001b[0;31m---------------------------------------------------------------------------\u001b[0m",
      "\u001b[0;31mNameError\u001b[0m                                 Traceback (most recent call last)",
      "Cell \u001b[0;32mIn[69], line 1\u001b[0m\n\u001b[0;32m----> 1\u001b[0m model\u001b[38;5;241m.\u001b[39mbuild_vocab(text, progress_per\u001b[38;5;241m=\u001b[39m\u001b[38;5;241m1000\u001b[39m)\n",
      "\u001b[0;31mNameError\u001b[0m: name 'text' is not defined"
     ]
    }
   ],
   "source": [
    "model.build_vocab(text, progress_per=1000)"
   ]
  },
  {
   "cell_type": "code",
   "execution_count": null,
   "metadata": {},
   "outputs": [
    {
     "data": {
      "text/plain": [
       "5"
      ]
     },
     "execution_count": 5,
     "metadata": {},
     "output_type": "execute_result"
    }
   ],
   "source": [
    "model.epochs"
   ]
  },
  {
   "cell_type": "code",
   "execution_count": null,
   "metadata": {},
   "outputs": [
    {
     "data": {
      "text/plain": [
       "62659"
      ]
     },
     "execution_count": 6,
     "metadata": {},
     "output_type": "execute_result"
    }
   ],
   "source": [
    "model.corpus_count"
   ]
  },
  {
   "cell_type": "code",
   "execution_count": null,
   "metadata": {},
   "outputs": [
    {
     "data": {
      "text/plain": [
       "(1519924, 2182260)"
      ]
     },
     "execution_count": 7,
     "metadata": {},
     "output_type": "execute_result"
    }
   ],
   "source": [
    "model.train(text, total_examples=model.corpus_count, epochs=model.epochs)"
   ]
  },
  {
   "cell_type": "code",
   "execution_count": null,
   "metadata": {},
   "outputs": [],
   "source": [
    "model.save(\"./word2vec_ingredients.model\")"
   ]
  },
  {
   "cell_type": "code",
   "execution_count": null,
   "metadata": {},
   "outputs": [
    {
     "data": {
      "text/plain": [
       "[('extra', 0.9959606528282166),\n",
       " ('canola', 0.8732596039772034),\n",
       " ('safflower', 0.8697990775108337),\n",
       " ('soybean', 0.862544596195221),\n",
       " ('virgin', 0.8184606432914734),\n",
       " ('oil', 0.7933313846588135),\n",
       " ('nfypds', 0.777657151222229),\n",
       " ('inal', 0.7687565684318542),\n",
       " ('tan', 0.6915730834007263),\n",
       " ('nfypdt', 0.6911724209785461)]"
      ]
     },
     "execution_count": 9,
     "metadata": {},
     "output_type": "execute_result"
    }
   ],
   "source": [
    "model.wv.most_similar(\"olive\")"
   ]
  },
  {
   "cell_type": "code",
   "execution_count": null,
   "metadata": {},
   "outputs": [
    {
     "data": {
      "text/plain": [
       "0.7933314"
      ]
     },
     "execution_count": 10,
     "metadata": {},
     "output_type": "execute_result"
    }
   ],
   "source": [
    "model.wv.similarity(w1=\"olive\", w2=\"oil\")"
   ]
  }
 ],
 "metadata": {
  "kernelspec": {
   "display_name": "base",
   "language": "python",
   "name": "python3"
  },
  "language_info": {
   "codemirror_mode": {
    "name": "ipython",
    "version": 3
   },
   "file_extension": ".py",
   "mimetype": "text/x-python",
   "name": "python",
   "nbconvert_exporter": "python",
   "pygments_lexer": "ipython3",
   "version": "3.11.5"
  }
 },
 "nbformat": 4,
 "nbformat_minor": 2
}
